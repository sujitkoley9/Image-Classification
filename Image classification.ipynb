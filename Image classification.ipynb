{
  "nbformat": 4,
  "nbformat_minor": 0,
  "metadata": {
    "colab": {
      "name": "Image classification.ipynb",
      "version": "0.3.2",
      "provenance": [],
      "collapsed_sections": [],
      "toc_visible": true
    },
    "kernelspec": {
      "name": "python3",
      "display_name": "Python 3"
    },
    "accelerator": "GPU"
  },
  "cells": [
    {
      "cell_type": "markdown",
      "metadata": {
        "id": "810F9Y63eipC",
        "colab_type": "text"
      },
      "source": [
        "#  Image   calssification using tensorflow 2.0 and keras "
      ]
    },
    {
      "cell_type": "markdown",
      "metadata": {
        "id": "e7eFJnVRg0sT",
        "colab_type": "text"
      },
      "source": [
        "**Importing important  libraries**\n",
        "\n",
        "\n",
        "\n"
      ]
    },
    {
      "cell_type": "code",
      "metadata": {
        "id": "FlZ5kJOdaBrk",
        "colab_type": "code",
        "colab": {}
      },
      "source": [
        "import tensorflow as tf\n",
        "from tensorflow.keras import Sequential\n",
        "from tensorflow.keras.layers import Conv2D\n",
        "from tensorflow.keras.layers import MaxPooling2D\n",
        "from tensorflow.keras.layers import Flatten\n",
        "from tensorflow.keras.layers import Dense\n",
        "from tensorflow.keras.preprocessing.image import ImageDataGenerator"
      ],
      "execution_count": 0,
      "outputs": []
    },
    {
      "cell_type": "markdown",
      "metadata": {
        "id": "FmmTQTMhjuCx",
        "colab_type": "text"
      },
      "source": [
        "**Steps of convolutional neural networks:**\n",
        "\n",
        "**Convolution Operation ----> Pooling ------> Flattening -----> Full Connection**\n",
        "              "
      ]
    },
    {
      "cell_type": "markdown",
      "metadata": {
        "id": "EfukF2VCucS5",
        "colab_type": "text"
      },
      "source": [
        "![alt text](https://raw.githubusercontent.com/sujitkoley9/Image-Classification/master/CNN-1.jpg)\n",
        "\n",
        "\n",
        "![alt text](https://raw.githubusercontent.com/sujitkoley9/Image-Classification/master/CNN-2.png)"
      ]
    },
    {
      "cell_type": "markdown",
      "metadata": {
        "id": "3pBxtSEKhlbC",
        "colab_type": "text"
      },
      "source": [
        "**Step 1 - Convolution**\n",
        "\n"
      ]
    },
    {
      "cell_type": "code",
      "metadata": {
        "id": "9nIJkTAqh0YF",
        "colab_type": "code",
        "colab": {}
      },
      "source": [
        "classifier = Sequential()\n",
        "classifier.add(Conv2D(32, (3, 3), input_shape = (64, 64, 3), activation = 'relu'))"
      ],
      "execution_count": 0,
      "outputs": []
    },
    {
      "cell_type": "markdown",
      "metadata": {
        "id": "4m6gVLJ5h5aW",
        "colab_type": "text"
      },
      "source": [
        "**Step 2 - Pooling**"
      ]
    },
    {
      "cell_type": "markdown",
      "metadata": {
        "id": "v_jfpH_GtdiR",
        "colab_type": "text"
      },
      "source": [
        ""
      ]
    },
    {
      "cell_type": "code",
      "metadata": {
        "id": "kzoKEt9lh418",
        "colab_type": "code",
        "colab": {}
      },
      "source": [
        "classifier.add(MaxPooling2D(pool_size = (2, 2)))"
      ],
      "execution_count": 0,
      "outputs": []
    },
    {
      "cell_type": "markdown",
      "metadata": {
        "id": "oL7SNbGqil7U",
        "colab_type": "text"
      },
      "source": [
        "**Step 3 -Adding a second convolutional layer**"
      ]
    },
    {
      "cell_type": "code",
      "metadata": {
        "id": "utaFcIuPio6B",
        "colab_type": "code",
        "colab": {}
      },
      "source": [
        "classifier.add(Conv2D(32, (3, 3), activation = 'relu'))\n",
        "classifier.add(MaxPooling2D(pool_size = (2, 2)))"
      ],
      "execution_count": 0,
      "outputs": []
    },
    {
      "cell_type": "markdown",
      "metadata": {
        "id": "gbKeNzlli0Xd",
        "colab_type": "text"
      },
      "source": [
        "**Step 4 - Flattening**"
      ]
    },
    {
      "cell_type": "code",
      "metadata": {
        "id": "dcLtFoLli3tf",
        "colab_type": "code",
        "colab": {}
      },
      "source": [
        "classifier.add(Flatten())"
      ],
      "execution_count": 0,
      "outputs": []
    },
    {
      "cell_type": "markdown",
      "metadata": {
        "id": "C6xKSkFni6sv",
        "colab_type": "text"
      },
      "source": [
        "**Step 5 - Full connection**"
      ]
    },
    {
      "cell_type": "code",
      "metadata": {
        "id": "Urw7kiMyi95L",
        "colab_type": "code",
        "colab": {}
      },
      "source": [
        "classifier.add(Dense(128, activation = 'relu'))\n",
        "classifier.add(Dense(1, activation = 'sigmoid'))"
      ],
      "execution_count": 0,
      "outputs": []
    },
    {
      "cell_type": "markdown",
      "metadata": {
        "id": "NM0zaSWujHZq",
        "colab_type": "text"
      },
      "source": [
        "**Step 6 -Compiling the CNN**\n",
        "\n",
        "**Different type of optimizers are:**\n",
        "\n",
        "\n",
        "1.   sgd (stochastic gradient descent)\n",
        "2.   rmsprop (root mean square propagation) \n",
        "\n",
        "1.   Adams\n",
        "2.   Adagrad\n",
        "\n",
        "1.   Adadelta\n",
        "\n",
        "\n",
        "\n",
        "\n",
        "\n",
        "\n",
        "\n",
        "\n",
        "\n",
        "\n",
        "\n",
        "\n",
        "\n",
        "\n",
        "\n",
        "\n",
        "\n",
        "\n",
        "```\n",
        "\n"
      ]
    },
    {
      "cell_type": "code",
      "metadata": {
        "id": "70SW4IPOjGzR",
        "colab_type": "code",
        "colab": {}
      },
      "source": [
        "classifier.compile(optimizer = 'adam', loss = 'binary_crossentropy', metrics = ['accuracy'])\n"
      ],
      "execution_count": 0,
      "outputs": []
    },
    {
      "cell_type": "markdown",
      "metadata": {
        "id": "4zbdARavIDL7",
        "colab_type": "text"
      },
      "source": [
        "**Step 7: Image augmentation**"
      ]
    },
    {
      "cell_type": "code",
      "metadata": {
        "id": "MubBTGrxjcOw",
        "colab_type": "code",
        "outputId": "79191c15-6a60-460e-ccba-21bb7619d2a4",
        "colab": {
          "base_uri": "https://localhost:8080/",
          "height": 68
        }
      },
      "source": [
        "# Batch size\n",
        "batch_size=32\n",
        "\n",
        "# To handle image loading problem\n",
        "from PIL import Image, ImageFile\n",
        "ImageFile.LOAD_TRUNCATED_IMAGES = True\n",
        "\n",
        "\n",
        "train_datagen = ImageDataGenerator(rescale = 1./255,\n",
        "                                   shear_range = 0.2,\n",
        "                                   zoom_range = 0.2,\n",
        "                                   horizontal_flip = True)\n",
        "\n",
        "test_datagen = ImageDataGenerator(rescale = 1./255)\n",
        "\n",
        "training_set = train_datagen.flow_from_directory('training_set',\n",
        "                                                 target_size = (64, 64),\n",
        "                                                 batch_size = batch_size,\n",
        "                                                 class_mode = 'binary')\n",
        "\n",
        "test_set = test_datagen.flow_from_directory('test_set',\n",
        "                                            target_size = (64, 64),\n",
        "                                            batch_size = batch_size,\n",
        "                                            class_mode = 'binary')\n",
        "\n",
        "print(training_set.class_indices)"
      ],
      "execution_count": 20,
      "outputs": [
        {
          "output_type": "stream",
          "text": [
            "Found 8000 images belonging to 2 classes.\n",
            "Found 2000 images belonging to 2 classes.\n",
            "{'cats': 0, 'dogs': 1}\n"
          ],
          "name": "stdout"
        }
      ]
    },
    {
      "cell_type": "markdown",
      "metadata": {
        "id": "zKMfIBRVkYDQ",
        "colab_type": "text"
      },
      "source": [
        "**Step 8 - Fitting the CNN to the images**\n",
        "\n",
        "\n",
        "\n"
      ]
    },
    {
      "cell_type": "code",
      "metadata": {
        "id": "3FweHrxSVTam",
        "colab_type": "code",
        "outputId": "319efe79-42bc-4c32-a07e-5ff4e3ca8c1f",
        "colab": {
          "base_uri": "https://localhost:8080/",
          "height": 377
        }
      },
      "source": [
        "history = classifier.fit_generator(training_set,\n",
        "                         steps_per_epoch = len(training_set),\n",
        "                         epochs = 20,\n",
        "                         validation_data = test_set,\n",
        "                         validation_steps = len(test_set))"
      ],
      "execution_count": 0,
      "outputs": [
        {
          "output_type": "stream",
          "text": [
            "Epoch 1/20\n",
            "250/250 [==============================] - 70s 279ms/step - loss: 0.4420 - accuracy: 0.7955 - val_loss: 0.4738 - val_accuracy: 0.7940\n",
            "Epoch 2/20\n",
            "250/250 [==============================] - 69s 274ms/step - loss: 0.4324 - accuracy: 0.7947 - val_loss: 0.4612 - val_accuracy: 0.7930\n",
            "Epoch 3/20\n",
            "250/250 [==============================] - 69s 277ms/step - loss: 0.4152 - accuracy: 0.8056 - val_loss: 0.5114 - val_accuracy: 0.7655\n",
            "Epoch 4/20\n",
            "250/250 [==============================] - 69s 278ms/step - loss: 0.4070 - accuracy: 0.8149 - val_loss: 0.4455 - val_accuracy: 0.7895\n",
            "Epoch 5/20\n",
            "250/250 [==============================] - 69s 276ms/step - loss: 0.3954 - accuracy: 0.8144 - val_loss: 0.5060 - val_accuracy: 0.7755\n",
            "Epoch 6/20\n",
            "250/250 [==============================] - 68s 273ms/step - loss: 0.3738 - accuracy: 0.8300 - val_loss: 0.4868 - val_accuracy: 0.7945\n",
            "Epoch 7/20\n",
            "250/250 [==============================] - 69s 276ms/step - loss: 0.3734 - accuracy: 0.8364 - val_loss: 0.4831 - val_accuracy: 0.7880\n",
            "Epoch 8/20\n",
            "250/250 [==============================] - 69s 275ms/step - loss: 0.3576 - accuracy: 0.8331 - val_loss: 0.4559 - val_accuracy: 0.8005\n",
            "Epoch 9/20\n",
            "250/250 [==============================] - 70s 279ms/step - loss: 0.3410 - accuracy: 0.8529 - val_loss: 0.4536 - val_accuracy: 0.8010\n",
            "Epoch 10/20\n",
            " 61/250 [======>.......................] - ETA: 42s - loss: 0.3245 - accuracy: 0.8545"
          ],
          "name": "stdout"
        }
      ]
    },
    {
      "cell_type": "markdown",
      "metadata": {
        "id": "7PoXtpfXLh4B",
        "colab_type": "text"
      },
      "source": [
        "**Visual display of accuaracy and loss of model**"
      ]
    },
    {
      "cell_type": "code",
      "metadata": {
        "id": "M7VVyx7TJ3CB",
        "colab_type": "code",
        "colab": {}
      },
      "source": [
        "# summarize history for accuracy\n",
        "plt.plot(history.history['acc'])\n",
        "plt.plot(history.history['val_acc'])\n",
        "plt.title('model accuracy')\n",
        "plt.ylabel('accuracy')\n",
        "plt.xlabel('epoch')\n",
        "plt.legend(['train', 'test'], loc='upper left')\n",
        "plt.show()\n",
        "# summarize history for loss\n",
        "plt.plot(history.history['loss'])\n",
        "plt.plot(history.history['val_loss'])\n",
        "plt.title('model loss')\n",
        "plt.ylabel('loss')\n",
        "plt.xlabel('epoch')\n",
        "plt.legend(['train', 'test'], loc='upper left')\n",
        "plt.show()"
      ],
      "execution_count": 0,
      "outputs": []
    },
    {
      "cell_type": "markdown",
      "metadata": {
        "id": "sZhlgyX6Lnlb",
        "colab_type": "text"
      },
      "source": [
        "  **Prediction on unknown image**"
      ]
    },
    {
      "cell_type": "code",
      "metadata": {
        "id": "L-w-9cLs4rJs",
        "colab_type": "code",
        "outputId": "59280d13-7c6c-46eb-90be-0a1d225518ab",
        "colab": {
          "base_uri": "https://localhost:8080/",
          "height": 34
        }
      },
      "source": [
        "import numpy as np\n",
        "from keras.preprocessing import image\n",
        "test_image_1 = image.load_img('single_prediction/cat_or_dog_1.jpg', target_size = (64, 64))\n",
        "test_image_2 = image.load_img('single_prediction/cat_or_dog_2.jpg', target_size = (64, 64))\n",
        "\n",
        "test_image_1 = image.img_to_array(test_image_1)\n",
        "test_image_2 = image.img_to_array(test_image_2)\n",
        "\n",
        "test_image_1 = np.expand_dims(test_image_1, axis = 0)\n",
        "test_image_2 = np.expand_dims(test_image_2, axis = 0)\n",
        "\n",
        "result_1 = classifier.predict(test_image_1)\n",
        "result_2 = classifier.predict(test_image_2 )\n",
        "\n",
        "\n",
        "prediction_1 = \"dog\"  if result_1[0][0] == 1 else \"cat\"\n",
        "\n",
        "prediction_2 = \"dog\"  if result_2[0][0] == 1 else \"cat\"\n"
      ],
      "execution_count": 0,
      "outputs": [
        {
          "output_type": "execute_result",
          "data": {
            "text/plain": [
              "{'cats': 0, 'dogs': 1}"
            ]
          },
          "metadata": {
            "tags": []
          },
          "execution_count": 30
        }
      ]
    },
    {
      "cell_type": "code",
      "metadata": {
        "id": "Wk7nU53N47tE",
        "colab_type": "code",
        "outputId": "232b3a13-18cd-4011-b06f-b9ccbcd59861",
        "colab": {
          "base_uri": "https://localhost:8080/",
          "height": 34
        }
      },
      "source": [
        "from IPython.display import Image,display,HTML\n",
        "\n",
        "display(HTML('<h1> it is  ' +prediction_1 +  ' </h1>'))\n",
        "display(Image(filename='single_prediction/cat_or_dog_1.jpg',width=800, height=400))\n",
        "\n",
        "display(HTML('<h1> it is  ' +prediction_2 +  ' </h1>'))\n",
        "display(Image(filename='single_prediction/cat_or_dog_2  .jpg',width=800, height=400))\n",
        "\n"
      ],
      "execution_count": 0,
      "outputs": [
        {
          "output_type": "stream",
          "text": [
            "dog\n"
          ],
          "name": "stdout"
        }
      ]
    }
  ]
}